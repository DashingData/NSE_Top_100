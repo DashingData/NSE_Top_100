{
 "cells": [
  {
   "cell_type": "code",
   "execution_count": 3,
   "id": "fd0ab737",
   "metadata": {},
   "outputs": [
    {
     "name": "stdout",
     "output_type": "stream",
     "text": [
      "Downloading from https://www.kaggle.com/api/v1/datasets/download/kmldas/nse-top-100-stocks?dataset_version_number=1...\n"
     ]
    },
    {
     "name": "stderr",
     "output_type": "stream",
     "text": [
      "100%|██████████| 20.4M/20.4M [00:02<00:00, 9.46MB/s]"
     ]
    },
    {
     "name": "stdout",
     "output_type": "stream",
     "text": [
      "Extracting files...\n"
     ]
    },
    {
     "name": "stderr",
     "output_type": "stream",
     "text": [
      "\n"
     ]
    },
    {
     "name": "stdout",
     "output_type": "stream",
     "text": [
      "Path to dataset files: /home/abhishek/.cache/kagglehub/datasets/kmldas/nse-top-100-stocks/versions/1\n"
     ]
    }
   ],
   "source": [
    "import kagglehub\n",
    "\n",
    "# Download latest version\n",
    "path = kagglehub.dataset_download(\"kmldas/nse-top-100-stocks\")\n",
    "\n",
    "print(\"Path to dataset files:\", path)"
   ]
  },
  {
   "cell_type": "code",
   "execution_count": 2,
   "id": "f34dc05a",
   "metadata": {},
   "outputs": [
    {
     "name": "stdout",
     "output_type": "stream",
     "text": [
      "Collecting kagglehub\n",
      "  Downloading kagglehub-0.3.12-py3-none-any.whl.metadata (38 kB)\n",
      "Requirement already satisfied: packaging in /home/abhishek/anaconda3/envs/pyspark_env/lib/python3.12/site-packages (from kagglehub) (24.2)\n",
      "Requirement already satisfied: pyyaml in /home/abhishek/anaconda3/envs/pyspark_env/lib/python3.12/site-packages (from kagglehub) (6.0.2)\n",
      "Requirement already satisfied: requests in /home/abhishek/anaconda3/envs/pyspark_env/lib/python3.12/site-packages (from kagglehub) (2.32.3)\n",
      "Collecting tqdm (from kagglehub)\n",
      "  Using cached tqdm-4.67.1-py3-none-any.whl.metadata (57 kB)\n",
      "Requirement already satisfied: charset_normalizer<4,>=2 in /home/abhishek/anaconda3/envs/pyspark_env/lib/python3.12/site-packages (from requests->kagglehub) (3.4.1)\n",
      "Requirement already satisfied: idna<4,>=2.5 in /home/abhishek/anaconda3/envs/pyspark_env/lib/python3.12/site-packages (from requests->kagglehub) (3.10)\n",
      "Requirement already satisfied: urllib3<3,>=1.21.1 in /home/abhishek/anaconda3/envs/pyspark_env/lib/python3.12/site-packages (from requests->kagglehub) (2.3.0)\n",
      "Requirement already satisfied: certifi>=2017.4.17 in /home/abhishek/anaconda3/envs/pyspark_env/lib/python3.12/site-packages (from requests->kagglehub) (2024.12.14)\n",
      "Downloading kagglehub-0.3.12-py3-none-any.whl (67 kB)\n",
      "Using cached tqdm-4.67.1-py3-none-any.whl (78 kB)\n",
      "Installing collected packages: tqdm, kagglehub\n",
      "Successfully installed kagglehub-0.3.12 tqdm-4.67.1\n",
      "Note: you may need to restart the kernel to use updated packages.\n"
     ]
    }
   ],
   "source": [
    "pip install kagglehub"
   ]
  },
  {
   "cell_type": "code",
   "execution_count": 7,
   "id": "c96645d8",
   "metadata": {},
   "outputs": [],
   "source": [
    "# Combining the stock data\n",
    "\n",
    "import pandas as pd  # for dataframe\n",
    "import os   #OS library operating system ke saath interact karne ke liye use hoti hai, jaise file path banane ke liye.\n",
    "import glob # Glob library file paths ko dhoondhne ke liye use hoti hai jo ek specific pattern se match karti hain.\n"
   ]
  },
  {
   "cell_type": "code",
   "execution_count": null,
   "id": "362c3ee6",
   "metadata": {},
   "outputs": [],
   "source": [
    "path = r'/home/abhishek/.cache/kagglehub/datasets/kmldas/nse-top-100-stocks/versions/1'\n",
    "\n",
    "\n",
    "# path setup kiya hai yaha mene "
   ]
  },
  {
   "cell_type": "code",
   "execution_count": 9,
   "id": "c701407c",
   "metadata": {},
   "outputs": [],
   "source": [
    "#  Glob ka use karke uss folder ke andar ki saari .xlsx files ke naam dhoondhna.\n",
    "# os.path.join(path, \"*.xlsx\") ek proper file path banata hai\n",
    "\n",
    "\n",
    "all_files = glob.glob(os.path.join(path , \"*.xlsx\"))"
   ]
  },
  {
   "cell_type": "code",
   "execution_count": 10,
   "id": "8a317284",
   "metadata": {},
   "outputs": [],
   "source": [
    "# Made a empty list where we will store the data of each file \n",
    "li = []"
   ]
  },
  {
   "cell_type": "code",
   "execution_count": null,
   "id": "b9e9c78c",
   "metadata": {},
   "outputs": [],
   "source": [
    "# Ek loop chala rahe hai  jo 'all_files' list mein se ek-ek karke har file ke naam (filename) ko lega.\n",
    "\n",
    "for filename in all_files:\n",
    "    df = pd.read_excel(filename , index_col=None , header=0)\n",
    "    li.append(df)\n",
    "\n",
    "# yaha pe index = None liya hai matlab iss file k pheele columns ko index nahi banana hai\n",
    "# header = 0 ka matlab hai ki file ki peheli row column names (headers) hai\n",
    "# li.append ka use yaha pe kiya gyaa hai ki padne k baad uss dataframe (df) ko hamari (li) mei daal dena"
   ]
  },
  {
   "cell_type": "code",
   "execution_count": null,
   "id": "982e37a0",
   "metadata": {},
   "outputs": [
    {
     "name": "stdout",
     "output_type": "stream",
     "text": [
      "Collecting openpyxl\n",
      "  Using cached openpyxl-3.1.5-py2.py3-none-any.whl.metadata (2.5 kB)\n",
      "Collecting et-xmlfile (from openpyxl)\n",
      "  Using cached et_xmlfile-2.0.0-py3-none-any.whl.metadata (2.7 kB)\n",
      "Using cached openpyxl-3.1.5-py2.py3-none-any.whl (250 kB)\n",
      "Using cached et_xmlfile-2.0.0-py3-none-any.whl (18 kB)\n",
      "Installing collected packages: et-xmlfile, openpyxl\n",
      "Successfully installed et-xmlfile-2.0.0 openpyxl-3.1.5\n",
      "Note: you may need to restart the kernel to use updated packages.\n"
     ]
    }
   ],
   "source": [
    "pip install openpyxl   # pandas ki excel file ko padne k liye ye library ka use kiya gaya hai "
   ]
  },
  {
   "cell_type": "code",
   "execution_count": null,
   "id": "f482fa66",
   "metadata": {},
   "outputs": [],
   "source": [
    "# loop poora hone k baad 'li' list mein saara DataFrames honge\n",
    "# pd.concat() function ka use karke unn saare DataFrames ko ek ke neeche ek jodna.\n",
    "# axis=0 ka matlab hai ki DataFrames ko vertically (rows ke neeche rows) jodna hai.\n",
    "# ignore_index=True ka matlab hai ki puraane index ko bhool jao aur naya index 0 se shuru karo.\n",
    "\n",
    "\n",
    "\n",
    "frame = pd.concat(li , axis = 0 , ignore_index= True )\n"
   ]
  },
  {
   "cell_type": "code",
   "execution_count": 18,
   "id": "609afc21",
   "metadata": {},
   "outputs": [
    {
     "name": "stdout",
     "output_type": "stream",
     "text": [
      "Successfully made a file named all_stocks.csv.\n"
     ]
    }
   ],
   "source": [
    "frame.to_csv('all_stocks.csv', index=False)\n",
    "\n",
    "\n",
    "print(\"Successfully made a file named all_stocks.csv.\")\n"
   ]
  },
  {
   "cell_type": "code",
   "execution_count": 19,
   "id": "70ff9669",
   "metadata": {},
   "outputs": [],
   "source": [
    "df = pd.read_csv('all_stocks.csv')"
   ]
  },
  {
   "cell_type": "code",
   "execution_count": 20,
   "id": "6b4109b9",
   "metadata": {},
   "outputs": [
    {
     "name": "stdout",
     "output_type": "stream",
     "text": [
      "         Date      Symbol Series  Prev Close   Open   High     Low    Last  \\\n",
      "0  2010-01-08  ABBOTINDIA     EQ      783.75  755.0  807.0  755.00  807.00   \n",
      "1  2010-01-11  ABBOTINDIA     EQ      807.00  825.0  825.0  790.00  804.80   \n",
      "2  2010-01-12  ABBOTINDIA     EQ      804.80  800.0  805.0  790.00  790.00   \n",
      "3  2010-01-13  ABBOTINDIA     EQ      790.00  787.0  787.0  720.00  767.00   \n",
      "4  2010-01-14  ABBOTINDIA     EQ      767.00  769.0  798.0  769.00  785.10   \n",
      "5  2010-01-15  ABBOTINDIA     EQ      785.10  768.5  805.0  768.50  798.70   \n",
      "6  2010-01-18  ABBOTINDIA     EQ      797.05  808.0  808.0  791.00  800.00   \n",
      "7  2010-01-19  ABBOTINDIA     EQ      799.55  804.0  805.0  791.50  791.50   \n",
      "8  2010-01-20  ABBOTINDIA     EQ      792.40  800.9  800.9  783.25  787.55   \n",
      "9  2010-01-21  ABBOTINDIA     EQ      786.45  751.0  800.0  751.00  784.00   \n",
      "\n",
      "    Close    VWAP  Volume      Turnover  Trades  Deliverable Volume  \\\n",
      "0  807.00  784.12    51.0  3.998995e+09     NaN                50.0   \n",
      "1  804.80  793.90   897.0  7.121265e+10     NaN               697.0   \n",
      "2  790.00  799.36   426.0  3.405260e+10     NaN               401.0   \n",
      "3  767.00  758.53   359.0  2.723129e+10     NaN               164.0   \n",
      "4  785.10  791.73   317.0  2.509785e+10     NaN               122.0   \n",
      "5  797.05  798.21  6965.0  5.559500e+11     NaN              5069.0   \n",
      "6  799.55  800.12   140.0  1.120168e+10     NaN               109.0   \n",
      "7  792.40  802.60  2420.0  1.942298e+11     NaN              2359.0   \n",
      "8  786.45  793.07   527.0  4.179502e+10     NaN               158.0   \n",
      "9  780.00  779.69   980.0  7.640959e+10     NaN               951.0   \n",
      "\n",
      "   %Deliverble  \n",
      "0       0.9804  \n",
      "1       0.7770  \n",
      "2       0.9413  \n",
      "3       0.4568  \n",
      "4       0.3849  \n",
      "5       0.7278  \n",
      "6       0.7786  \n",
      "7       0.9748  \n",
      "8       0.2998  \n",
      "9       0.9704  \n"
     ]
    }
   ],
   "source": [
    "print(df.head(10))"
   ]
  },
  {
   "cell_type": "markdown",
   "id": "ab80d0ce",
   "metadata": {},
   "source": [
    "# Data cleaning and Stock Selection "
   ]
  },
  {
   "cell_type": "code",
   "execution_count": 22,
   "id": "c50ff616",
   "metadata": {},
   "outputs": [],
   "source": [
    "# Step : 1 Stock Filter + Data Sorting \n",
    "\n",
    "\n",
    "import pandas as pd\n",
    "from pathlib import Path"
   ]
  },
  {
   "cell_type": "code",
   "execution_count": 24,
   "id": "673d1ee0",
   "metadata": {},
   "outputs": [],
   "source": [
    "CSV_PATH = \"/home/abhishek/Desktop/NSE_top_100/NSE_Top_100/all_stocks.csv\"\n",
    "CHOSEN_SYMBOL = \"ABBOTINDIA\"   # Targeted stock \n",
    "OUT_DIR = \"./\"\n"
   ]
  },
  {
   "cell_type": "code",
   "execution_count": 25,
   "id": "d7848a7d",
   "metadata": {},
   "outputs": [],
   "source": [
    "df = pd.read_csv('all_stocks.csv')"
   ]
  },
  {
   "cell_type": "code",
   "execution_count": 26,
   "id": "5173bb9e",
   "metadata": {},
   "outputs": [
    {
     "name": "stdout",
     "output_type": "stream",
     "text": [
      "Dataset shape: (252905, 15)\n"
     ]
    }
   ],
   "source": [
    "# 2) Quick check: kitni rows/cols hain (sirf info ke liye)\n",
    "print(\"Dataset shape:\", df.shape)"
   ]
  },
  {
   "cell_type": "code",
   "execution_count": 27,
   "id": "03eb78b2",
   "metadata": {},
   "outputs": [],
   "source": [
    "# 3) 'Symbol' missing wali rows hatao (stock filter ke liye zaroori)\n",
    "df = df.dropna(subset=[\"Symbol\"]).copy()\n"
   ]
  },
  {
   "cell_type": "code",
   "execution_count": null,
   "id": "0c1486c5",
   "metadata": {},
   "outputs": [
    {
     "data": {
      "text/plain": [
       "np.int64(0)"
      ]
     },
     "execution_count": 28,
     "metadata": {},
     "output_type": "execute_result"
    }
   ],
   "source": [
    "df['Symbol'].isnull().sum()\n",
    "\n",
    "# its visible here that no null value is their "
   ]
  },
  {
   "cell_type": "code",
   "execution_count": 29,
   "id": "94b58e5d",
   "metadata": {},
   "outputs": [],
   "source": [
    "# 4) 'Date' ko datetime me convert karo\n",
    "#    - errors='coerce' invalid dates ko NaT banayega (error nahi aayega)\n",
    "df[\"Date\"] = pd.to_datetime(df[\"Date\"], errors=\"coerce\")\n"
   ]
  },
  {
   "cell_type": "code",
   "execution_count": 30,
   "id": "f77776fe",
   "metadata": {},
   "outputs": [
    {
     "data": {
      "text/plain": [
       "dtype('<M8[ns]')"
      ]
     },
     "execution_count": 30,
     "metadata": {},
     "output_type": "execute_result"
    }
   ],
   "source": [
    "df['Date'].dtype"
   ]
  },
  {
   "cell_type": "code",
   "execution_count": 31,
   "id": "0751029b",
   "metadata": {},
   "outputs": [
    {
     "data": {
      "text/plain": [
       "np.int64(0)"
      ]
     },
     "execution_count": 31,
     "metadata": {},
     "output_type": "execute_result"
    }
   ],
   "source": [
    "df[\"Date\"].isnull().sum()"
   ]
  },
  {
   "cell_type": "code",
   "execution_count": 32,
   "id": "a128401e",
   "metadata": {},
   "outputs": [],
   "source": [
    "# 5) Jin rows me Date parse nahi hui (NaT), unhe drop karo\n",
    "df = df.dropna(subset=[\"Date\"])"
   ]
  },
  {
   "cell_type": "code",
   "execution_count": 33,
   "id": "62efd298",
   "metadata": {},
   "outputs": [
    {
     "data": {
      "text/plain": [
       "np.int64(0)"
      ]
     },
     "execution_count": 33,
     "metadata": {},
     "output_type": "execute_result"
    }
   ],
   "source": [
    "df[\"Date\"].isnull().sum()"
   ]
  },
  {
   "cell_type": "code",
   "execution_count": 35,
   "id": "83af41b3",
   "metadata": {},
   "outputs": [],
   "source": [
    "# Agar CHOSEN_SYMBOL dataset me nahi hai, to top-available symbol choose kar lo\n",
    "if CHOSEN_SYMBOL not in df[\"Symbol\"].unique():\n",
    "    print(f\"Warning: '{CHOSEN_SYMBOL}' not found. Falling back to most frequent symbol.\")\n",
    "    # value_counts se sabse zyada rows wala symbol choose karte hain\n",
    "    CHOSEN_SYMBOL = df[\"Symbol\"].value_counts().index[0]"
   ]
  },
  {
   "cell_type": "code",
   "execution_count": 36,
   "id": "e0816130",
   "metadata": {},
   "outputs": [
    {
     "name": "stdout",
     "output_type": "stream",
     "text": [
      "Working with symbol: ABBOTINDIA\n"
     ]
    }
   ],
   "source": [
    "print(\"Working with symbol:\", CHOSEN_SYMBOL)"
   ]
  },
  {
   "cell_type": "code",
   "execution_count": 37,
   "id": "fec8ea1a",
   "metadata": {},
   "outputs": [],
   "source": [
    "# 7) Sirf chosen symbol ka data lo (continuous time-series banane ke liye)\n",
    "stock_df = df[df[\"Symbol\"] == CHOSEN_SYMBOL].copy()\n"
   ]
  },
  {
   "cell_type": "code",
   "execution_count": 38,
   "id": "aba1889a",
   "metadata": {},
   "outputs": [],
   "source": [
    "# 8) Date ke hisaab se sort (oldest -> newest)\n",
    "stock_df = stock_df.sort_values(\"Date\").reset_index(drop=True)"
   ]
  },
  {
   "cell_type": "code",
   "execution_count": null,
   "id": "d6ade0e7",
   "metadata": {},
   "outputs": [
    {
     "name": "stdout",
     "output_type": "stream",
     "text": [
      "Date range for ABBOTINDIA: 2010-01-08 -> 2020-10-01\n",
      "Total rows for ABBOTINDIA: 2667\n"
     ]
    }
   ],
   "source": [
    "# 9) Sanity print: date range aur total rows\n",
    "print(f\"Date range for {CHOSEN_SYMBOL}: {stock_df['Date'].min().date()} -> {stock_df['Date'].max().date()}\")\n",
    "print(f\"Total rows for {CHOSEN_SYMBOL}: {len(stock_df)}\")\n",
    "\n",
    "\n",
    "\n",
    "#  sabse purana date se sabse naya date tak ka range aur total rows count print kar rahi hai — taaki confirm ho jaye data sahi sort hua hai aur pura mil gaya."
   ]
  },
  {
   "cell_type": "code",
   "execution_count": 40,
   "id": "6ab8d4d0",
   "metadata": {},
   "outputs": [
    {
     "name": "stdout",
     "output_type": "stream",
     "text": [
      "        Date      Symbol Series  Prev Close   Open   High    Low   Last  \\\n",
      "0 2010-01-08  ABBOTINDIA     EQ      783.75  755.0  807.0  755.0  807.0   \n",
      "1 2010-01-11  ABBOTINDIA     EQ      807.00  825.0  825.0  790.0  804.8   \n",
      "2 2010-01-12  ABBOTINDIA     EQ      804.80  800.0  805.0  790.0  790.0   \n",
      "3 2010-01-13  ABBOTINDIA     EQ      790.00  787.0  787.0  720.0  767.0   \n",
      "4 2010-01-14  ABBOTINDIA     EQ      767.00  769.0  798.0  769.0  785.1   \n",
      "\n",
      "   Close    VWAP  Volume      Turnover  Trades  Deliverable Volume  \\\n",
      "0  807.0  784.12    51.0  3.998995e+09     NaN                50.0   \n",
      "1  804.8  793.90   897.0  7.121265e+10     NaN               697.0   \n",
      "2  790.0  799.36   426.0  3.405260e+10     NaN               401.0   \n",
      "3  767.0  758.53   359.0  2.723129e+10     NaN               164.0   \n",
      "4  785.1  791.73   317.0  2.509785e+10     NaN               122.0   \n",
      "\n",
      "   %Deliverble  \n",
      "0       0.9804  \n",
      "1       0.7770  \n",
      "2       0.9413  \n",
      "3       0.4568  \n",
      "4       0.3849  \n"
     ]
    }
   ],
   "source": [
    "print(stock_df.head())"
   ]
  },
  {
   "cell_type": "code",
   "execution_count": 41,
   "id": "fbbca76e",
   "metadata": {},
   "outputs": [
    {
     "name": "stdout",
     "output_type": "stream",
     "text": [
      "Saved: ABBOTINDIA_step1_sorted.csv\n"
     ]
    }
   ],
   "source": [
    "Path(OUT_DIR).mkdir(parents=True, exist_ok=True)\n",
    "out_path = Path(OUT_DIR) / f\"{CHOSEN_SYMBOL}_step1_sorted.csv\"\n",
    "stock_df.to_csv(out_path, index=False)\n",
    "print(\"Saved:\", out_path)"
   ]
  },
  {
   "cell_type": "markdown",
   "id": "f597678c",
   "metadata": {},
   "source": [
    "# Feature Selection & Handing Missing Values & Train-Test Splitting \n"
   ]
  },
  {
   "cell_type": "code",
   "execution_count": 48,
   "id": "bad0c401",
   "metadata": {},
   "outputs": [],
   "source": [
    "import pandas as pd\n",
    "import numpy as np \n",
    "from sklearn.preprocessing import MinMaxScaler\n",
    "from pathlib import Path"
   ]
  },
  {
   "cell_type": "code",
   "execution_count": 47,
   "id": "fa5677b2",
   "metadata": {},
   "outputs": [
    {
     "name": "stdout",
     "output_type": "stream",
     "text": [
      "Collecting scikit-learn\n",
      "  Downloading scikit_learn-1.7.1-cp312-cp312-manylinux2014_x86_64.manylinux_2_17_x86_64.whl.metadata (11 kB)\n",
      "Requirement already satisfied: numpy>=1.22.0 in /home/abhishek/anaconda3/envs/pyspark_env/lib/python3.12/site-packages (from scikit-learn) (2.2.2)\n",
      "Collecting scipy>=1.8.0 (from scikit-learn)\n",
      "  Downloading scipy-1.16.1-cp312-cp312-manylinux2014_x86_64.manylinux_2_17_x86_64.whl.metadata (61 kB)\n",
      "Collecting joblib>=1.2.0 (from scikit-learn)\n",
      "  Using cached joblib-1.5.1-py3-none-any.whl.metadata (5.6 kB)\n",
      "Collecting threadpoolctl>=3.1.0 (from scikit-learn)\n",
      "  Using cached threadpoolctl-3.6.0-py3-none-any.whl.metadata (13 kB)\n",
      "Downloading scikit_learn-1.7.1-cp312-cp312-manylinux2014_x86_64.manylinux_2_17_x86_64.whl (9.5 MB)\n",
      "\u001b[2K   \u001b[90m━━━━━━━━━━━━━━━━━━━━━━━━━━━━━━━━━━━━━━━━\u001b[0m \u001b[32m9.5/9.5 MB\u001b[0m \u001b[31m8.2 MB/s\u001b[0m eta \u001b[36m0:00:00\u001b[0m:00:01\u001b[0m00:01\u001b[0m\n",
      "\u001b[?25hUsing cached joblib-1.5.1-py3-none-any.whl (307 kB)\n",
      "Downloading scipy-1.16.1-cp312-cp312-manylinux2014_x86_64.manylinux_2_17_x86_64.whl (35.2 MB)\n",
      "\u001b[2K   \u001b[90m━━━━━━━━━━━━━━━━━━━━━━━━━━━━━━━━━━━━━━━━\u001b[0m \u001b[32m35.2/35.2 MB\u001b[0m \u001b[31m9.4 MB/s\u001b[0m eta \u001b[36m0:00:00\u001b[0m:00:01\u001b[0m00:01\u001b[0m\n",
      "\u001b[?25hUsing cached threadpoolctl-3.6.0-py3-none-any.whl (18 kB)\n",
      "Installing collected packages: threadpoolctl, scipy, joblib, scikit-learn\n",
      "Successfully installed joblib-1.5.1 scikit-learn-1.7.1 scipy-1.16.1 threadpoolctl-3.6.0\n",
      "Note: you may need to restart the kernel to use updated packages.\n"
     ]
    }
   ],
   "source": [
    "pip install scikit-learn\n"
   ]
  },
  {
   "cell_type": "code",
   "execution_count": 50,
   "id": "9b1625c8",
   "metadata": {},
   "outputs": [],
   "source": [
    "stock_df = pd.read_csv(\"ABBOTINDIA_step1_sorted.csv\", parse_dates=[\"Date\"])\n"
   ]
  },
  {
   "cell_type": "code",
   "execution_count": 51,
   "id": "678e9c24",
   "metadata": {},
   "outputs": [],
   "source": [
    "FEATURES =  [\"Open\", \"High\", \"Low\", \"Close\", \"Volume\", \"VWAP\"]"
   ]
  },
  {
   "cell_type": "code",
   "execution_count": 52,
   "id": "6371673f",
   "metadata": {},
   "outputs": [],
   "source": [
    "# 2) Sirf Date + selected features lo\n",
    "df2 = stock_df[[\"Date\"] + FEATURES].copy()"
   ]
  },
  {
   "cell_type": "code",
   "execution_count": 53,
   "id": "e6e15f16",
   "metadata": {},
   "outputs": [
    {
     "name": "stdout",
     "output_type": "stream",
     "text": [
      "Open: 0 non-numeric values\n",
      "High: 0 non-numeric values\n",
      "Low: 0 non-numeric values\n",
      "Close: 0 non-numeric values\n",
      "Volume: 0 non-numeric values\n",
      "VWAP: 0 non-numeric values\n"
     ]
    }
   ],
   "source": [
    "import pandas as pd\n",
    "\n",
    "df = pd.read_csv(\"ABBOTINDIA_step1_sorted.csv\")\n",
    "FEATURES = [\"Open\", \"High\", \"Low\", \"Close\", \"Volume\", \"VWAP\"]\n",
    "\n",
    "for col in FEATURES:\n",
    "    # non-numeric count\n",
    "    non_num_count = pd.to_numeric(df[col], errors=\"coerce\").isna().sum() - df[col].isna().sum()\n",
    "    print(f\"{col}: {non_num_count} non-numeric values\")\n"
   ]
  },
  {
   "cell_type": "code",
   "execution_count": 56,
   "id": "ed184065",
   "metadata": {},
   "outputs": [],
   "source": [
    "df2[FEATURES] = df2[FEATURES].apply(pd.to_numeric, errors=\"coerce\")\n",
    "df2[FEATURES] = df2[FEATURES].ffill().bfill()"
   ]
  },
  {
   "cell_type": "code",
   "execution_count": 58,
   "id": "ed0b7576",
   "metadata": {},
   "outputs": [
    {
     "name": "stdout",
     "output_type": "stream",
     "text": [
      "Dup dates after agg: 0\n"
     ]
    }
   ],
   "source": [
    "df = df.sort_values(\"Date\")\n",
    "agg = {\"Open\":\"first\",\"High\":\"max\",\"Low\":\"min\",\"Close\":\"last\",\"Volume\":\"sum\",\"VWAP\":\"mean\"}  # (ya VWAP ko volume-weighted karo agar intraday volume ho)\n",
    "df = df.groupby(\"Date\", as_index=False).agg(agg)\n",
    "print(\"Dup dates after agg:\", df[\"Date\"].duplicated().sum())\n"
   ]
  },
  {
   "cell_type": "code",
   "execution_count": 63,
   "id": "91b75f3c",
   "metadata": {},
   "outputs": [
    {
     "name": "stderr",
     "output_type": "stream",
     "text": [
      "2025-08-10 19:04:29.300082: I external/local_xla/xla/tsl/cuda/cudart_stub.cc:32] Could not find cuda drivers on your machine, GPU will not be used.\n",
      "2025-08-10 19:04:30.235897: I external/local_xla/xla/tsl/cuda/cudart_stub.cc:32] Could not find cuda drivers on your machine, GPU will not be used.\n",
      "2025-08-10 19:04:30.669387: E external/local_xla/xla/stream_executor/cuda/cuda_fft.cc:467] Unable to register cuFFT factory: Attempting to register factory for plugin cuFFT when one has already been registered\n",
      "WARNING: All log messages before absl::InitializeLog() is called are written to STDERR\n",
      "E0000 00:00:1754832871.163863   11689 cuda_dnn.cc:8579] Unable to register cuDNN factory: Attempting to register factory for plugin cuDNN when one has already been registered\n",
      "E0000 00:00:1754832871.288239   11689 cuda_blas.cc:1407] Unable to register cuBLAS factory: Attempting to register factory for plugin cuBLAS when one has already been registered\n",
      "W0000 00:00:1754832871.954601   11689 computation_placer.cc:177] computation placer already registered. Please check linkage and avoid linking the same target more than once.\n",
      "W0000 00:00:1754832871.954624   11689 computation_placer.cc:177] computation placer already registered. Please check linkage and avoid linking the same target more than once.\n",
      "W0000 00:00:1754832871.954627   11689 computation_placer.cc:177] computation placer already registered. Please check linkage and avoid linking the same target more than once.\n",
      "W0000 00:00:1754832871.954630   11689 computation_placer.cc:177] computation placer already registered. Please check linkage and avoid linking the same target more than once.\n",
      "2025-08-10 19:04:31.962537: I tensorflow/core/platform/cpu_feature_guard.cc:210] This TensorFlow binary is optimized to use available CPU instructions in performance-critical operations.\n",
      "To enable the following instructions: AVX2 FMA, in other operations, rebuild TensorFlow with the appropriate compiler flags.\n"
     ]
    }
   ],
   "source": [
    "import pandas as pd\n",
    "import numpy as np\n",
    "from pathlib import Path\n",
    "from sklearn.preprocessing import MinMaxScaler\n",
    "from sklearn.metrics import mean_squared_error, mean_absolute_error, r2_score\n",
    "import matplotlib.pyplot as plt\n",
    "import tensorflow as tf\n",
    "from tensorflow.keras import Sequential\n",
    "from tensorflow.keras.layers import LSTM, GRU, Dense, Dropout\n",
    "from tensorflow.keras.callbacks import EarlyStopping\n"
   ]
  },
  {
   "cell_type": "code",
   "execution_count": 60,
   "id": "f49884f6",
   "metadata": {},
   "outputs": [
    {
     "name": "stdout",
     "output_type": "stream",
     "text": [
      "Collecting matplotlib\n",
      "  Using cached matplotlib-3.10.5-cp312-cp312-manylinux2014_x86_64.manylinux_2_17_x86_64.whl.metadata (11 kB)\n",
      "Collecting contourpy>=1.0.1 (from matplotlib)\n",
      "  Using cached contourpy-1.3.3-cp312-cp312-manylinux_2_27_x86_64.manylinux_2_28_x86_64.whl.metadata (5.5 kB)\n",
      "Collecting cycler>=0.10 (from matplotlib)\n",
      "  Using cached cycler-0.12.1-py3-none-any.whl.metadata (3.8 kB)\n",
      "Collecting fonttools>=4.22.0 (from matplotlib)\n",
      "  Using cached fonttools-4.59.0-cp312-cp312-manylinux1_x86_64.manylinux2014_x86_64.manylinux_2_17_x86_64.manylinux_2_5_x86_64.whl.metadata (107 kB)\n",
      "Collecting kiwisolver>=1.3.1 (from matplotlib)\n",
      "  Using cached kiwisolver-1.4.8-cp312-cp312-manylinux_2_17_x86_64.manylinux2014_x86_64.whl.metadata (6.2 kB)\n",
      "Requirement already satisfied: numpy>=1.23 in /home/abhishek/anaconda3/envs/pyspark_env/lib/python3.12/site-packages (from matplotlib) (2.2.2)\n",
      "Requirement already satisfied: packaging>=20.0 in /home/abhishek/anaconda3/envs/pyspark_env/lib/python3.12/site-packages (from matplotlib) (24.2)\n",
      "Collecting pillow>=8 (from matplotlib)\n",
      "  Using cached pillow-11.3.0-cp312-cp312-manylinux_2_27_x86_64.manylinux_2_28_x86_64.whl.metadata (9.0 kB)\n",
      "Collecting pyparsing>=2.3.1 (from matplotlib)\n",
      "  Using cached pyparsing-3.2.3-py3-none-any.whl.metadata (5.0 kB)\n",
      "Requirement already satisfied: python-dateutil>=2.7 in /home/abhishek/anaconda3/envs/pyspark_env/lib/python3.12/site-packages (from matplotlib) (2.9.0.post0)\n",
      "Requirement already satisfied: six>=1.5 in /home/abhishek/anaconda3/envs/pyspark_env/lib/python3.12/site-packages (from python-dateutil>=2.7->matplotlib) (1.17.0)\n",
      "Using cached matplotlib-3.10.5-cp312-cp312-manylinux2014_x86_64.manylinux_2_17_x86_64.whl (8.7 MB)\n",
      "Using cached contourpy-1.3.3-cp312-cp312-manylinux_2_27_x86_64.manylinux_2_28_x86_64.whl (362 kB)\n",
      "Using cached cycler-0.12.1-py3-none-any.whl (8.3 kB)\n",
      "Using cached fonttools-4.59.0-cp312-cp312-manylinux1_x86_64.manylinux2014_x86_64.manylinux_2_17_x86_64.manylinux_2_5_x86_64.whl (4.9 MB)\n",
      "Using cached kiwisolver-1.4.8-cp312-cp312-manylinux_2_17_x86_64.manylinux2014_x86_64.whl (1.5 MB)\n",
      "Using cached pillow-11.3.0-cp312-cp312-manylinux_2_27_x86_64.manylinux_2_28_x86_64.whl (6.6 MB)\n",
      "Using cached pyparsing-3.2.3-py3-none-any.whl (111 kB)\n",
      "Installing collected packages: pyparsing, pillow, kiwisolver, fonttools, cycler, contourpy, matplotlib\n",
      "Successfully installed contourpy-1.3.3 cycler-0.12.1 fonttools-4.59.0 kiwisolver-1.4.8 matplotlib-3.10.5 pillow-11.3.0 pyparsing-3.2.3\n",
      "Note: you may need to restart the kernel to use updated packages.\n"
     ]
    }
   ],
   "source": [
    "pip install matplotlib"
   ]
  },
  {
   "cell_type": "code",
   "execution_count": 62,
   "id": "63d777d7",
   "metadata": {},
   "outputs": [
    {
     "name": "stdout",
     "output_type": "stream",
     "text": [
      "Collecting tensorflow\n",
      "  Using cached tensorflow-2.19.0-cp312-cp312-manylinux_2_17_x86_64.manylinux2014_x86_64.whl.metadata (4.1 kB)\n",
      "Collecting absl-py>=1.0.0 (from tensorflow)\n",
      "  Using cached absl_py-2.3.1-py3-none-any.whl.metadata (3.3 kB)\n",
      "Collecting astunparse>=1.6.0 (from tensorflow)\n",
      "  Using cached astunparse-1.6.3-py2.py3-none-any.whl.metadata (4.4 kB)\n",
      "Collecting flatbuffers>=24.3.25 (from tensorflow)\n",
      "  Using cached flatbuffers-25.2.10-py2.py3-none-any.whl.metadata (875 bytes)\n",
      "Collecting gast!=0.5.0,!=0.5.1,!=0.5.2,>=0.2.1 (from tensorflow)\n",
      "  Using cached gast-0.6.0-py3-none-any.whl.metadata (1.3 kB)\n",
      "Collecting google-pasta>=0.1.1 (from tensorflow)\n",
      "  Using cached google_pasta-0.2.0-py3-none-any.whl.metadata (814 bytes)\n",
      "Collecting libclang>=13.0.0 (from tensorflow)\n",
      "  Using cached libclang-18.1.1-py2.py3-none-manylinux2010_x86_64.whl.metadata (5.2 kB)\n",
      "Collecting opt-einsum>=2.3.2 (from tensorflow)\n",
      "  Using cached opt_einsum-3.4.0-py3-none-any.whl.metadata (6.3 kB)\n",
      "Requirement already satisfied: packaging in /home/abhishek/anaconda3/envs/pyspark_env/lib/python3.12/site-packages (from tensorflow) (24.2)\n",
      "Collecting protobuf!=4.21.0,!=4.21.1,!=4.21.2,!=4.21.3,!=4.21.4,!=4.21.5,<6.0.0dev,>=3.20.3 (from tensorflow)\n",
      "  Using cached protobuf-5.29.5-cp38-abi3-manylinux2014_x86_64.whl.metadata (592 bytes)\n",
      "Requirement already satisfied: requests<3,>=2.21.0 in /home/abhishek/anaconda3/envs/pyspark_env/lib/python3.12/site-packages (from tensorflow) (2.32.3)\n",
      "Requirement already satisfied: setuptools in /home/abhishek/anaconda3/envs/pyspark_env/lib/python3.12/site-packages (from tensorflow) (75.8.0)\n",
      "Requirement already satisfied: six>=1.12.0 in /home/abhishek/anaconda3/envs/pyspark_env/lib/python3.12/site-packages (from tensorflow) (1.17.0)\n",
      "Collecting termcolor>=1.1.0 (from tensorflow)\n",
      "  Using cached termcolor-3.1.0-py3-none-any.whl.metadata (6.4 kB)\n",
      "Requirement already satisfied: typing-extensions>=3.6.6 in /home/abhishek/anaconda3/envs/pyspark_env/lib/python3.12/site-packages (from tensorflow) (4.12.2)\n",
      "Collecting wrapt>=1.11.0 (from tensorflow)\n",
      "  Using cached wrapt-1.17.2-cp312-cp312-manylinux_2_5_x86_64.manylinux1_x86_64.manylinux_2_17_x86_64.manylinux2014_x86_64.whl.metadata (6.4 kB)\n",
      "Collecting grpcio<2.0,>=1.24.3 (from tensorflow)\n",
      "  Using cached grpcio-1.74.0-cp312-cp312-manylinux_2_17_x86_64.manylinux2014_x86_64.whl.metadata (3.8 kB)\n",
      "Collecting tensorboard~=2.19.0 (from tensorflow)\n",
      "  Using cached tensorboard-2.19.0-py3-none-any.whl.metadata (1.8 kB)\n",
      "Collecting keras>=3.5.0 (from tensorflow)\n",
      "  Using cached keras-3.11.1-py3-none-any.whl.metadata (5.9 kB)\n",
      "Collecting numpy<2.2.0,>=1.26.0 (from tensorflow)\n",
      "  Using cached numpy-2.1.3-cp312-cp312-manylinux_2_17_x86_64.manylinux2014_x86_64.whl.metadata (62 kB)\n",
      "Collecting h5py>=3.11.0 (from tensorflow)\n",
      "  Using cached h5py-3.14.0-cp312-cp312-manylinux_2_17_x86_64.manylinux2014_x86_64.whl.metadata (2.7 kB)\n",
      "Collecting ml-dtypes<1.0.0,>=0.5.1 (from tensorflow)\n",
      "  Using cached ml_dtypes-0.5.3-cp312-cp312-manylinux_2_27_x86_64.manylinux_2_28_x86_64.whl.metadata (8.9 kB)\n",
      "Requirement already satisfied: wheel<1.0,>=0.23.0 in /home/abhishek/anaconda3/envs/pyspark_env/lib/python3.12/site-packages (from astunparse>=1.6.0->tensorflow) (0.45.1)\n",
      "Collecting rich (from keras>=3.5.0->tensorflow)\n",
      "  Using cached rich-14.1.0-py3-none-any.whl.metadata (18 kB)\n",
      "Collecting namex (from keras>=3.5.0->tensorflow)\n",
      "  Using cached namex-0.1.0-py3-none-any.whl.metadata (322 bytes)\n",
      "Collecting optree (from keras>=3.5.0->tensorflow)\n",
      "  Using cached optree-0.17.0-cp312-cp312-manylinux_2_27_x86_64.manylinux_2_28_x86_64.whl.metadata (33 kB)\n",
      "Requirement already satisfied: charset_normalizer<4,>=2 in /home/abhishek/anaconda3/envs/pyspark_env/lib/python3.12/site-packages (from requests<3,>=2.21.0->tensorflow) (3.4.1)\n",
      "Requirement already satisfied: idna<4,>=2.5 in /home/abhishek/anaconda3/envs/pyspark_env/lib/python3.12/site-packages (from requests<3,>=2.21.0->tensorflow) (3.10)\n",
      "Requirement already satisfied: urllib3<3,>=1.21.1 in /home/abhishek/anaconda3/envs/pyspark_env/lib/python3.12/site-packages (from requests<3,>=2.21.0->tensorflow) (2.3.0)\n",
      "Requirement already satisfied: certifi>=2017.4.17 in /home/abhishek/anaconda3/envs/pyspark_env/lib/python3.12/site-packages (from requests<3,>=2.21.0->tensorflow) (2024.12.14)\n",
      "Collecting markdown>=2.6.8 (from tensorboard~=2.19.0->tensorflow)\n",
      "  Using cached markdown-3.8.2-py3-none-any.whl.metadata (5.1 kB)\n",
      "Collecting tensorboard-data-server<0.8.0,>=0.7.0 (from tensorboard~=2.19.0->tensorflow)\n",
      "  Using cached tensorboard_data_server-0.7.2-py3-none-manylinux_2_31_x86_64.whl.metadata (1.1 kB)\n",
      "Collecting werkzeug>=1.0.1 (from tensorboard~=2.19.0->tensorflow)\n",
      "  Using cached werkzeug-3.1.3-py3-none-any.whl.metadata (3.7 kB)\n",
      "Requirement already satisfied: MarkupSafe>=2.1.1 in /home/abhishek/anaconda3/envs/pyspark_env/lib/python3.12/site-packages (from werkzeug>=1.0.1->tensorboard~=2.19.0->tensorflow) (3.0.2)\n",
      "Collecting markdown-it-py>=2.2.0 (from rich->keras>=3.5.0->tensorflow)\n",
      "  Using cached markdown_it_py-3.0.0-py3-none-any.whl.metadata (6.9 kB)\n",
      "Requirement already satisfied: pygments<3.0.0,>=2.13.0 in /home/abhishek/anaconda3/envs/pyspark_env/lib/python3.12/site-packages (from rich->keras>=3.5.0->tensorflow) (2.19.1)\n",
      "Collecting mdurl~=0.1 (from markdown-it-py>=2.2.0->rich->keras>=3.5.0->tensorflow)\n",
      "  Using cached mdurl-0.1.2-py3-none-any.whl.metadata (1.6 kB)\n",
      "Using cached tensorflow-2.19.0-cp312-cp312-manylinux_2_17_x86_64.manylinux2014_x86_64.whl (645.0 MB)\n",
      "Using cached absl_py-2.3.1-py3-none-any.whl (135 kB)\n",
      "Using cached astunparse-1.6.3-py2.py3-none-any.whl (12 kB)\n",
      "Using cached flatbuffers-25.2.10-py2.py3-none-any.whl (30 kB)\n",
      "Using cached gast-0.6.0-py3-none-any.whl (21 kB)\n",
      "Using cached google_pasta-0.2.0-py3-none-any.whl (57 kB)\n",
      "Using cached grpcio-1.74.0-cp312-cp312-manylinux_2_17_x86_64.manylinux2014_x86_64.whl (6.2 MB)\n",
      "Using cached h5py-3.14.0-cp312-cp312-manylinux_2_17_x86_64.manylinux2014_x86_64.whl (4.9 MB)\n",
      "Using cached keras-3.11.1-py3-none-any.whl (1.4 MB)\n",
      "Using cached libclang-18.1.1-py2.py3-none-manylinux2010_x86_64.whl (24.5 MB)\n",
      "Using cached ml_dtypes-0.5.3-cp312-cp312-manylinux_2_27_x86_64.manylinux_2_28_x86_64.whl (4.9 MB)\n",
      "Using cached numpy-2.1.3-cp312-cp312-manylinux_2_17_x86_64.manylinux2014_x86_64.whl (16.0 MB)\n",
      "Using cached opt_einsum-3.4.0-py3-none-any.whl (71 kB)\n",
      "Using cached protobuf-5.29.5-cp38-abi3-manylinux2014_x86_64.whl (319 kB)\n",
      "Using cached tensorboard-2.19.0-py3-none-any.whl (5.5 MB)\n",
      "Using cached termcolor-3.1.0-py3-none-any.whl (7.7 kB)\n",
      "Using cached wrapt-1.17.2-cp312-cp312-manylinux_2_5_x86_64.manylinux1_x86_64.manylinux_2_17_x86_64.manylinux2014_x86_64.whl (89 kB)\n",
      "Using cached markdown-3.8.2-py3-none-any.whl (106 kB)\n",
      "Using cached tensorboard_data_server-0.7.2-py3-none-manylinux_2_31_x86_64.whl (6.6 MB)\n",
      "Using cached werkzeug-3.1.3-py3-none-any.whl (224 kB)\n",
      "Using cached namex-0.1.0-py3-none-any.whl (5.9 kB)\n",
      "Using cached optree-0.17.0-cp312-cp312-manylinux_2_27_x86_64.manylinux_2_28_x86_64.whl (408 kB)\n",
      "Using cached rich-14.1.0-py3-none-any.whl (243 kB)\n",
      "Using cached markdown_it_py-3.0.0-py3-none-any.whl (87 kB)\n",
      "Using cached mdurl-0.1.2-py3-none-any.whl (10.0 kB)\n",
      "Installing collected packages: namex, libclang, flatbuffers, wrapt, werkzeug, termcolor, tensorboard-data-server, protobuf, optree, opt-einsum, numpy, mdurl, markdown, grpcio, google-pasta, gast, astunparse, absl-py, tensorboard, ml-dtypes, markdown-it-py, h5py, rich, keras, tensorflow\n",
      "  Attempting uninstall: numpy\n",
      "    Found existing installation: numpy 2.2.2\n",
      "    Uninstalling numpy-2.2.2:\n",
      "      Successfully uninstalled numpy-2.2.2\n",
      "Successfully installed absl-py-2.3.1 astunparse-1.6.3 flatbuffers-25.2.10 gast-0.6.0 google-pasta-0.2.0 grpcio-1.74.0 h5py-3.14.0 keras-3.11.1 libclang-18.1.1 markdown-3.8.2 markdown-it-py-3.0.0 mdurl-0.1.2 ml-dtypes-0.5.3 namex-0.1.0 numpy-2.1.3 opt-einsum-3.4.0 optree-0.17.0 protobuf-5.29.5 rich-14.1.0 tensorboard-2.19.0 tensorboard-data-server-0.7.2 tensorflow-2.19.0 termcolor-3.1.0 werkzeug-3.1.3 wrapt-1.17.2\n",
      "Note: you may need to restart the kernel to use updated packages.\n"
     ]
    }
   ],
   "source": [
    "pip install tensorflow"
   ]
  },
  {
   "cell_type": "code",
   "execution_count": 64,
   "id": "51d8d42c",
   "metadata": {},
   "outputs": [],
   "source": [
    "PATH = \"ABBOTINDIA_step1_sorted.csv\"       # Step-1 output\n",
    "df = pd.read_csv(PATH, parse_dates=[\"Date\"]).sort_values(\"Date\").reset_index(drop=True)\n"
   ]
  },
  {
   "cell_type": "code",
   "execution_count": 71,
   "id": "709e337b",
   "metadata": {},
   "outputs": [],
   "source": [
    "# Target = next-day Close (1-day ahead forecasting)\n",
    "df2[\"Target\"] = df2[\"Close\"].shift(-1)\n",
    "df2 = df2.dropna().reset_index(drop=True)"
   ]
  },
  {
   "cell_type": "code",
   "execution_count": 72,
   "id": "2203ad9c",
   "metadata": {},
   "outputs": [
    {
     "name": "stdout",
     "output_type": "stream",
     "text": [
      "Train rows: 2229 | Test rows: 434\n"
     ]
    }
   ],
   "source": [
    "# 2) Train/Test split by date (future simulation)\n",
    "#    Train: 2010–2018, Test: 2019–2020\n",
    "# ----------------------------\n",
    "SPLIT_DATE = pd.Timestamp(\"2019-01-01\")\n",
    "train_df = df2[df2[\"Date\"] < SPLIT_DATE].copy()\n",
    "test_df  = df2[df2[\"Date\"] >= SPLIT_DATE].copy()\n",
    "\n",
    "print(\"Train rows:\", len(train_df), \"| Test rows:\", len(test_df))"
   ]
  },
  {
   "cell_type": "code",
   "execution_count": 73,
   "id": "783763e9",
   "metadata": {},
   "outputs": [],
   "source": [
    "# 3) Scale features/target (fit on TRAIN only!)\n",
    "# ----------------------------\n",
    "x_scaler = MinMaxScaler()\n",
    "y_scaler = MinMaxScaler()\n",
    "\n",
    "X_train = train_df[FEATURES].values\n",
    "y_train = train_df[[\"Target\"]].values\n",
    "X_test  = test_df[FEATURES].values\n",
    "y_test  = test_df[[\"Target\"]].values\n",
    "\n",
    "X_train_s = x_scaler.fit_transform(X_train)\n",
    "X_test_s  = x_scaler.transform(X_test)\n",
    "y_train_s = y_scaler.fit_transform(y_train)\n",
    "y_test_s  = y_scaler.transform(y_test)\n"
   ]
  },
  {
   "cell_type": "code",
   "execution_count": 74,
   "id": "b123bb18",
   "metadata": {},
   "outputs": [
    {
     "name": "stdout",
     "output_type": "stream",
     "text": [
      "Xtr_seq: (2169, 60, 6) | Xte_seq: (374, 60, 6)\n"
     ]
    }
   ],
   "source": [
    "# ----------------------------\n",
    "# 4) Make sequences (windowed samples)\n",
    "#    Each sample = last W days (features) → predict next-day Target\n",
    "# ----------------------------\n",
    "def make_sequences(X, y, window=60):\n",
    "    Xs, ys = [], []\n",
    "    for i in range(window, len(X)):\n",
    "        Xs.append(X[i-window:i, :])  # past W rows\n",
    "        ys.append(y[i, 0])           # the target at i (next day for that window)\n",
    "    return np.array(Xs), np.array(ys)\n",
    "\n",
    "WINDOW = 60\n",
    "Xtr_seq, ytr_seq = make_sequences(X_train_s, y_train_s, window=WINDOW)\n",
    "Xte_seq, yte_seq = make_sequences(X_test_s,  y_test_s,  window=WINDOW)\n",
    "\n",
    "print(\"Xtr_seq:\", Xtr_seq.shape, \"| Xte_seq:\", Xte_seq.shape)\n"
   ]
  },
  {
   "cell_type": "markdown",
   "id": "adf602a1",
   "metadata": {},
   "source": [
    "# MOdel Building "
   ]
  },
  {
   "cell_type": "code",
   "execution_count": 75,
   "id": "5cb513d1",
   "metadata": {},
   "outputs": [
    {
     "name": "stderr",
     "output_type": "stream",
     "text": [
      "2025-08-10 19:18:07.097131: E external/local_xla/xla/stream_executor/cuda/cuda_platform.cc:51] failed call to cuInit: INTERNAL: CUDA error: Failed call to cuInit: UNKNOWN ERROR (303)\n",
      "/home/abhishek/anaconda3/envs/pyspark_env/lib/python3.12/site-packages/keras/src/layers/rnn/rnn.py:199: UserWarning: Do not pass an `input_shape`/`input_dim` argument to a layer. When using Sequential models, prefer using an `Input(shape)` object as the first layer in the model instead.\n",
      "  super().__init__(**kwargs)\n"
     ]
    }
   ],
   "source": [
    "# ----------------------------\n",
    "# 5) Build models\n",
    "# ----------------------------\n",
    "def build_lstm(input_shape):\n",
    "    model = Sequential([\n",
    "        LSTM(64, return_sequences=True, input_shape=input_shape),\n",
    "        Dropout(0.2),\n",
    "        LSTM(32),\n",
    "        Dense(1)\n",
    "    ])\n",
    "    model.compile(optimizer=tf.keras.optimizers.Adam(learning_rate=1e-3), loss=\"mse\")\n",
    "    return model\n",
    "\n",
    "def build_gru(input_shape):\n",
    "    model = Sequential([\n",
    "        GRU(64, return_sequences=True, input_shape=input_shape),\n",
    "        Dropout(0.2),\n",
    "        GRU(32),\n",
    "        Dense(1)\n",
    "    ])\n",
    "    model.compile(optimizer=tf.keras.optimizers.Adam(learning_rate=1e-3), loss=\"mse\")\n",
    "    return model\n",
    "\n",
    "input_shape = (Xtr_seq.shape[1], Xtr_seq.shape[2])\n",
    "lstm = build_lstm(input_shape)\n",
    "gru  = build_gru(input_shape)\n",
    "\n",
    "early = EarlyStopping(monitor=\"val_loss\", patience=10, restore_best_weights=True)\n",
    "\n",
    "# ----------------------------"
   ]
  },
  {
   "cell_type": "code",
   "execution_count": 76,
   "id": "e52f4a81",
   "metadata": {},
   "outputs": [
    {
     "name": "stdout",
     "output_type": "stream",
     "text": [
      "Epoch 1/100\n",
      "\u001b[1m61/61\u001b[0m \u001b[32m━━━━━━━━━━━━━━━━━━━━\u001b[0m\u001b[37m\u001b[0m \u001b[1m6s\u001b[0m 43ms/step - loss: 0.0077 - val_loss: 0.0053\n",
      "Epoch 2/100\n",
      "\u001b[1m61/61\u001b[0m \u001b[32m━━━━━━━━━━━━━━━━━━━━\u001b[0m\u001b[37m\u001b[0m \u001b[1m2s\u001b[0m 35ms/step - loss: 5.7430e-04 - val_loss: 0.0074\n",
      "Epoch 3/100\n",
      "\u001b[1m61/61\u001b[0m \u001b[32m━━━━━━━━━━━━━━━━━━━━\u001b[0m\u001b[37m\u001b[0m \u001b[1m2s\u001b[0m 36ms/step - loss: 5.1764e-04 - val_loss: 0.0092\n",
      "Epoch 4/100\n",
      "\u001b[1m61/61\u001b[0m \u001b[32m━━━━━━━━━━━━━━━━━━━━\u001b[0m\u001b[37m\u001b[0m \u001b[1m2s\u001b[0m 37ms/step - loss: 4.5114e-04 - val_loss: 0.0075\n",
      "Epoch 5/100\n",
      "\u001b[1m61/61\u001b[0m \u001b[32m━━━━━━━━━━━━━━━━━━━━\u001b[0m\u001b[37m\u001b[0m \u001b[1m2s\u001b[0m 37ms/step - loss: 4.1279e-04 - val_loss: 0.0071\n",
      "Epoch 6/100\n",
      "\u001b[1m61/61\u001b[0m \u001b[32m━━━━━━━━━━━━━━━━━━━━\u001b[0m\u001b[37m\u001b[0m \u001b[1m3s\u001b[0m 41ms/step - loss: 3.9561e-04 - val_loss: 0.0092\n",
      "Epoch 7/100\n",
      "\u001b[1m61/61\u001b[0m \u001b[32m━━━━━━━━━━━━━━━━━━━━\u001b[0m\u001b[37m\u001b[0m \u001b[1m2s\u001b[0m 37ms/step - loss: 3.9955e-04 - val_loss: 0.0048\n",
      "Epoch 8/100\n",
      "\u001b[1m61/61\u001b[0m \u001b[32m━━━━━━━━━━━━━━━━━━━━\u001b[0m\u001b[37m\u001b[0m \u001b[1m2s\u001b[0m 36ms/step - loss: 3.5013e-04 - val_loss: 0.0050\n",
      "Epoch 9/100\n",
      "\u001b[1m61/61\u001b[0m \u001b[32m━━━━━━━━━━━━━━━━━━━━\u001b[0m\u001b[37m\u001b[0m \u001b[1m2s\u001b[0m 37ms/step - loss: 3.7476e-04 - val_loss: 0.0038\n",
      "Epoch 10/100\n",
      "\u001b[1m61/61\u001b[0m \u001b[32m━━━━━━━━━━━━━━━━━━━━\u001b[0m\u001b[37m\u001b[0m \u001b[1m2s\u001b[0m 37ms/step - loss: 3.6089e-04 - val_loss: 0.0071\n",
      "Epoch 11/100\n",
      "\u001b[1m61/61\u001b[0m \u001b[32m━━━━━━━━━━━━━━━━━━━━\u001b[0m\u001b[37m\u001b[0m \u001b[1m2s\u001b[0m 37ms/step - loss: 3.4061e-04 - val_loss: 0.0047\n",
      "Epoch 12/100\n",
      "\u001b[1m61/61\u001b[0m \u001b[32m━━━━━━━━━━━━━━━━━━━━\u001b[0m\u001b[37m\u001b[0m \u001b[1m2s\u001b[0m 37ms/step - loss: 3.3276e-04 - val_loss: 0.0046\n",
      "Epoch 13/100\n",
      "\u001b[1m61/61\u001b[0m \u001b[32m━━━━━━━━━━━━━━━━━━━━\u001b[0m\u001b[37m\u001b[0m \u001b[1m2s\u001b[0m 37ms/step - loss: 3.2044e-04 - val_loss: 0.0040\n",
      "Epoch 14/100\n",
      "\u001b[1m61/61\u001b[0m \u001b[32m━━━━━━━━━━━━━━━━━━━━\u001b[0m\u001b[37m\u001b[0m \u001b[1m2s\u001b[0m 36ms/step - loss: 2.7426e-04 - val_loss: 0.0040\n",
      "Epoch 15/100\n",
      "\u001b[1m61/61\u001b[0m \u001b[32m━━━━━━━━━━━━━━━━━━━━\u001b[0m\u001b[37m\u001b[0m \u001b[1m2s\u001b[0m 38ms/step - loss: 2.8228e-04 - val_loss: 0.0030\n",
      "Epoch 16/100\n",
      "\u001b[1m61/61\u001b[0m \u001b[32m━━━━━━━━━━━━━━━━━━━━\u001b[0m\u001b[37m\u001b[0m \u001b[1m2s\u001b[0m 37ms/step - loss: 2.9034e-04 - val_loss: 0.0062\n",
      "Epoch 17/100\n",
      "\u001b[1m61/61\u001b[0m \u001b[32m━━━━━━━━━━━━━━━━━━━━\u001b[0m\u001b[37m\u001b[0m \u001b[1m2s\u001b[0m 38ms/step - loss: 2.7298e-04 - val_loss: 0.0058\n",
      "Epoch 18/100\n",
      "\u001b[1m61/61\u001b[0m \u001b[32m━━━━━━━━━━━━━━━━━━━━\u001b[0m\u001b[37m\u001b[0m \u001b[1m2s\u001b[0m 36ms/step - loss: 2.9545e-04 - val_loss: 0.0043\n",
      "Epoch 19/100\n",
      "\u001b[1m61/61\u001b[0m \u001b[32m━━━━━━━━━━━━━━━━━━━━\u001b[0m\u001b[37m\u001b[0m \u001b[1m2s\u001b[0m 38ms/step - loss: 2.5202e-04 - val_loss: 0.0042\n",
      "Epoch 20/100\n",
      "\u001b[1m61/61\u001b[0m \u001b[32m━━━━━━━━━━━━━━━━━━━━\u001b[0m\u001b[37m\u001b[0m \u001b[1m2s\u001b[0m 37ms/step - loss: 2.8464e-04 - val_loss: 0.0042\n",
      "Epoch 21/100\n",
      "\u001b[1m61/61\u001b[0m \u001b[32m━━━━━━━━━━━━━━━━━━━━\u001b[0m\u001b[37m\u001b[0m \u001b[1m2s\u001b[0m 37ms/step - loss: 2.6176e-04 - val_loss: 0.0064\n",
      "Epoch 22/100\n",
      "\u001b[1m61/61\u001b[0m \u001b[32m━━━━━━━━━━━━━━━━━━━━\u001b[0m\u001b[37m\u001b[0m \u001b[1m3s\u001b[0m 42ms/step - loss: 2.6569e-04 - val_loss: 0.0033\n",
      "Epoch 23/100\n",
      "\u001b[1m61/61\u001b[0m \u001b[32m━━━━━━━━━━━━━━━━━━━━\u001b[0m\u001b[37m\u001b[0m \u001b[1m2s\u001b[0m 37ms/step - loss: 2.3966e-04 - val_loss: 0.0038\n",
      "Epoch 24/100\n",
      "\u001b[1m61/61\u001b[0m \u001b[32m━━━━━━━━━━━━━━━━━━━━\u001b[0m\u001b[37m\u001b[0m \u001b[1m2s\u001b[0m 39ms/step - loss: 2.3467e-04 - val_loss: 0.0038\n",
      "Epoch 25/100\n",
      "\u001b[1m61/61\u001b[0m \u001b[32m━━━━━━━━━━━━━━━━━━━━\u001b[0m\u001b[37m\u001b[0m \u001b[1m2s\u001b[0m 37ms/step - loss: 2.4276e-04 - val_loss: 0.0033\n",
      "Epoch 1/100\n",
      "\u001b[1m61/61\u001b[0m \u001b[32m━━━━━━━━━━━━━━━━━━━━\u001b[0m\u001b[37m\u001b[0m \u001b[1m6s\u001b[0m 48ms/step - loss: 0.0145 - val_loss: 0.0012\n",
      "Epoch 2/100\n",
      "\u001b[1m61/61\u001b[0m \u001b[32m━━━━━━━━━━━━━━━━━━━━\u001b[0m\u001b[37m\u001b[0m \u001b[1m2s\u001b[0m 37ms/step - loss: 5.6119e-04 - val_loss: 0.0014\n",
      "Epoch 3/100\n",
      "\u001b[1m61/61\u001b[0m \u001b[32m━━━━━━━━━━━━━━━━━━━━\u001b[0m\u001b[37m\u001b[0m \u001b[1m2s\u001b[0m 38ms/step - loss: 4.9658e-04 - val_loss: 0.0021\n",
      "Epoch 4/100\n",
      "\u001b[1m61/61\u001b[0m \u001b[32m━━━━━━━━━━━━━━━━━━━━\u001b[0m\u001b[37m\u001b[0m \u001b[1m2s\u001b[0m 38ms/step - loss: 4.3585e-04 - val_loss: 0.0012\n",
      "Epoch 5/100\n",
      "\u001b[1m61/61\u001b[0m \u001b[32m━━━━━━━━━━━━━━━━━━━━\u001b[0m\u001b[37m\u001b[0m \u001b[1m2s\u001b[0m 38ms/step - loss: 3.8620e-04 - val_loss: 0.0023\n",
      "Epoch 6/100\n",
      "\u001b[1m61/61\u001b[0m \u001b[32m━━━━━━━━━━━━━━━━━━━━\u001b[0m\u001b[37m\u001b[0m \u001b[1m2s\u001b[0m 36ms/step - loss: 3.5606e-04 - val_loss: 0.0013\n",
      "Epoch 7/100\n",
      "\u001b[1m61/61\u001b[0m \u001b[32m━━━━━━━━━━━━━━━━━━━━\u001b[0m\u001b[37m\u001b[0m \u001b[1m3s\u001b[0m 42ms/step - loss: 3.3029e-04 - val_loss: 0.0011\n",
      "Epoch 8/100\n",
      "\u001b[1m61/61\u001b[0m \u001b[32m━━━━━━━━━━━━━━━━━━━━\u001b[0m\u001b[37m\u001b[0m \u001b[1m2s\u001b[0m 37ms/step - loss: 3.3455e-04 - val_loss: 0.0020\n",
      "Epoch 9/100\n",
      "\u001b[1m61/61\u001b[0m \u001b[32m━━━━━━━━━━━━━━━━━━━━\u001b[0m\u001b[37m\u001b[0m \u001b[1m2s\u001b[0m 40ms/step - loss: 3.0650e-04 - val_loss: 0.0018\n",
      "Epoch 10/100\n",
      "\u001b[1m61/61\u001b[0m \u001b[32m━━━━━━━━━━━━━━━━━━━━\u001b[0m\u001b[37m\u001b[0m \u001b[1m3s\u001b[0m 50ms/step - loss: 2.7063e-04 - val_loss: 0.0019\n",
      "Epoch 11/100\n",
      "\u001b[1m61/61\u001b[0m \u001b[32m━━━━━━━━━━━━━━━━━━━━\u001b[0m\u001b[37m\u001b[0m \u001b[1m2s\u001b[0m 40ms/step - loss: 2.8874e-04 - val_loss: 0.0018\n",
      "Epoch 12/100\n",
      "\u001b[1m61/61\u001b[0m \u001b[32m━━━━━━━━━━━━━━━━━━━━\u001b[0m\u001b[37m\u001b[0m \u001b[1m3s\u001b[0m 42ms/step - loss: 2.5120e-04 - val_loss: 0.0026\n",
      "Epoch 13/100\n",
      "\u001b[1m61/61\u001b[0m \u001b[32m━━━━━━━━━━━━━━━━━━━━\u001b[0m\u001b[37m\u001b[0m \u001b[1m2s\u001b[0m 35ms/step - loss: 2.7035e-04 - val_loss: 0.0020\n",
      "Epoch 14/100\n",
      "\u001b[1m61/61\u001b[0m \u001b[32m━━━━━━━━━━━━━━━━━━━━\u001b[0m\u001b[37m\u001b[0m \u001b[1m2s\u001b[0m 38ms/step - loss: 2.3961e-04 - val_loss: 0.0023\n",
      "Epoch 15/100\n",
      "\u001b[1m61/61\u001b[0m \u001b[32m━━━━━━━━━━━━━━━━━━━━\u001b[0m\u001b[37m\u001b[0m \u001b[1m2s\u001b[0m 36ms/step - loss: 2.3756e-04 - val_loss: 0.0024\n",
      "Epoch 16/100\n",
      "\u001b[1m61/61\u001b[0m \u001b[32m━━━━━━━━━━━━━━━━━━━━\u001b[0m\u001b[37m\u001b[0m \u001b[1m2s\u001b[0m 36ms/step - loss: 2.5108e-04 - val_loss: 0.0023\n",
      "Epoch 17/100\n",
      "\u001b[1m61/61\u001b[0m \u001b[32m━━━━━━━━━━━━━━━━━━━━\u001b[0m\u001b[37m\u001b[0m \u001b[1m2s\u001b[0m 38ms/step - loss: 2.3382e-04 - val_loss: 0.0019\n"
     ]
    }
   ],
   "source": [
    "# 6) Train\n",
    "# ----------------------------\n",
    "history_lstm = lstm.fit(\n",
    "    Xtr_seq, ytr_seq, \n",
    "    validation_split=0.1, \n",
    "    epochs=100, batch_size=32, \n",
    "    callbacks=[early],\n",
    "    verbose=1\n",
    ")\n",
    "\n",
    "history_gru = gru.fit(\n",
    "    Xtr_seq, ytr_seq, \n",
    "    validation_split=0.1, \n",
    "    epochs=100, batch_size=32, \n",
    "    callbacks=[early],\n",
    "    verbose=1\n",
    ")\n"
   ]
  },
  {
   "cell_type": "code",
   "execution_count": 78,
   "id": "04dd02e1",
   "metadata": {},
   "outputs": [
    {
     "name": "stdout",
     "output_type": "stream",
     "text": [
      "\u001b[1m12/12\u001b[0m \u001b[32m━━━━━━━━━━━━━━━━━━━━\u001b[0m\u001b[37m\u001b[0m \u001b[1m1s\u001b[0m 40ms/step\n",
      "\u001b[1m12/12\u001b[0m \u001b[32m━━━━━━━━━━━━━━━━━━━━\u001b[0m\u001b[37m\u001b[0m \u001b[1m1s\u001b[0m 41ms/step\n"
     ]
    }
   ],
   "source": [
    "# 7) Predict (on TEST) and inverse-scale to original prices\n",
    "# ----------------------------\n",
    "pred_lstm_s = lstm.predict(Xte_seq)\n",
    "pred_gru_s  = gru.predict(Xte_seq)\n",
    "\n",
    "# Inverse scale\n",
    "pred_lstm = y_scaler.inverse_transform(pred_lstm_s.reshape(-1,1)).ravel()\n",
    "pred_gru  = y_scaler.inverse_transform(pred_gru_s.reshape(-1,1)).ravel()\n",
    "y_true    = y_scaler.inverse_transform(yte_seq.reshape(-1,1)).ravel()\n"
   ]
  },
  {
   "cell_type": "code",
   "execution_count": 80,
   "id": "0fb2e966",
   "metadata": {},
   "outputs": [
    {
     "name": "stdout",
     "output_type": "stream",
     "text": [
      "\n",
      "==== LSTM Performance ====\n",
      "RMSE: 3606.063 | MAE: 3061.632 | R2: -0.115 | MAPE: 21.52% | Accuracy≈ 78.48%\n",
      "\n",
      "==== GRU Performance ====\n",
      "RMSE: 2012.234 | MAE: 1640.207 | R2: 0.653 | MAPE: 11.33% | Accuracy≈ 88.67%\n"
     ]
    }
   ],
   "source": [
    "# 8) Metrics\n",
    "#    - RMSE/MAE/R2 (standard)\n",
    "#    - MAPE% (avg percent error), Accuracy% ≈ 100 - MAPE%\n",
    "# ----------------------------\n",
    "from sklearn.metrics import mean_squared_error, mean_absolute_error, r2_score\n",
    "import numpy as np\n",
    "\n",
    "def metrics(y_true, y_pred):\n",
    "    mse  = mean_squared_error(y_true, y_pred)\n",
    "    rmse = np.sqrt(mse)                 # <- squared kwarg ki jagah\n",
    "    mae  = mean_absolute_error(y_true, y_pred)\n",
    "    r2   = r2_score(y_true, y_pred)\n",
    "    mape = np.mean(np.abs((y_true - y_pred) / np.clip(np.abs(y_true), 1e-8, None))) * 100.0\n",
    "    acc  = 100.0 - mape\n",
    "    return rmse, mae, r2, mape, acc\n",
    "\n",
    "rmse_l, mae_l, r2_l, mape_l, acc_l = metrics(y_true, pred_lstm)\n",
    "rmse_g, mae_g, r2_g, mape_g, acc_g = metrics(y_true, pred_gru)\n",
    "\n",
    "print(\"\\n==== LSTM Performance ====\")\n",
    "print(f\"RMSE: {rmse_l:.3f} | MAE: {mae_l:.3f} | R2: {r2_l:.3f} | MAPE: {mape_l:.2f}% | Accuracy≈ {acc_l:.2f}%\")\n",
    "\n",
    "print(\"\\n==== GRU Performance ====\")\n",
    "print(f\"RMSE: {rmse_g:.3f} | MAE: {mae_g:.3f} | R2: {r2_g:.3f} | MAPE: {mape_g:.2f}% | Accuracy≈ {acc_g:.2f}%\")\n"
   ]
  },
  {
   "cell_type": "code",
   "execution_count": 81,
   "id": "980e2f31",
   "metadata": {},
   "outputs": [
    {
     "data": {
      "image/png": "[encoded data removed]",
      "text/plain": [
       "<Figure size 640x480 with 1 Axes>"
      ]
     },
     "metadata": {},
     "output_type": "display_data"
    }
   ],
   "source": [
    "plt.figure()\n",
    "plt.plot(y_true, label=\"Actual\")\n",
    "plt.plot(pred_lstm, label=\"LSTM Pred\")\n",
    "plt.plot(pred_gru, label=\"GRU Pred\")\n",
    "plt.title(\"ABBOTINDIA - Next-day Close: Actual vs Predictions\")\n",
    "plt.xlabel(\"Test samples (chronological)\")\n",
    "plt.ylabel(\"Price\")\n",
    "plt.legend()\n",
    "plt.show()"
   ]
  },
  {
   "cell_type": "code",
   "execution_count": null,
   "id": "670d0131",
   "metadata": {},
   "outputs": [],
   "source": []
  }
 ],
 "metadata": {
  "kernelspec": {
   "display_name": "pyspark_env",
   "language": "python",
   "name": "python3"
  },
  "language_info": {
   "codemirror_mode": {
    "name": "ipython",
    "version": 3
   },
   "file_extension": ".py",
   "mimetype": "text/x-python",
   "name": "python",
   "nbconvert_exporter": "python",
   "pygments_lexer": "ipython3",
   "version": "3.12.8"
  }
 },
 "nbformat": 4,
 "nbformat_minor": 5
}
